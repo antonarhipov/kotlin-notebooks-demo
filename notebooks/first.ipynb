{
 "cells": [
  {
   "cell_type": "code",
   "metadata": {
    "collapsed": true,
    "ExecuteTime": {
     "end_time": "2024-03-15T07:16:58.984583Z",
     "start_time": "2024-03-15T07:16:58.883490Z"
    }
   },
   "source": [
    "val a = 10 + 10\n",
    "val b = 2 + 2"
   ],
   "outputs": [],
   "execution_count": 2
  },
  {
   "metadata": {
    "ExecuteTime": {
     "end_time": "2024-03-15T07:17:09.907339Z",
     "start_time": "2024-03-15T07:17:09.806862Z"
    }
   },
   "cell_type": "code",
   "source": "a + b",
   "outputs": [
    {
     "data": {
      "text/plain": [
       "24"
      ]
     },
     "execution_count": 3,
     "metadata": {},
     "output_type": "execute_result"
    }
   ],
   "execution_count": 3
  },
  {
   "metadata": {
    "ExecuteTime": {
     "end_time": "2024-03-15T07:17:14.091514Z",
     "start_time": "2024-03-15T07:17:13.958855Z"
    }
   },
   "cell_type": "code",
   "source": "println(\"Hello, Notebooks!\")",
   "outputs": [
    {
     "name": "stdout",
     "output_type": "stream",
     "text": [
      "Hello, Notebooks!\n"
     ]
    }
   ],
   "execution_count": 4
  },
  {
   "metadata": {},
   "cell_type": "markdown",
   "source": [
    "# Intro\n",
    "\n",
    "* List Item 1\n",
    "* List Item 2"
   ]
  },
  {
   "metadata": {
    "ExecuteTime": {
     "end_time": "2024-03-15T07:27:13.232052Z",
     "start_time": "2024-03-15T07:27:13.182690Z"
    }
   },
   "cell_type": "code",
   "source": "HTML(\"<img src='https://github.com/peter-juritz/weather-visualization/blob/master/images/temp_humid.png?raw=true' width=600px>\")",
   "outputs": [
    {
     "data": {
      "text/html": [
       "<img src='https://github.com/peter-juritz/weather-visualization/blob/master/images/temp_humid.png?raw=true' width=600px>"
      ]
     },
     "execution_count": 18,
     "metadata": {},
     "output_type": "execute_result"
    }
   ],
   "execution_count": 18
  },
  {
   "metadata": {},
   "cell_type": "code",
   "outputs": [],
   "execution_count": null,
   "source": ""
  }
 ],
 "metadata": {
  "kernelspec": {
   "display_name": "Kotlin",
   "language": "kotlin",
   "name": "kotlin"
  },
  "language_info": {
   "name": "kotlin",
   "version": "1.9.10",
   "mimetype": "text/x-kotlin",
   "file_extension": ".kt",
   "pygments_lexer": "kotlin",
   "codemirror_mode": "text/x-kotlin",
   "nbconvert_exporter": ""
  }
 },
 "nbformat": 4,
 "nbformat_minor": 0
}
