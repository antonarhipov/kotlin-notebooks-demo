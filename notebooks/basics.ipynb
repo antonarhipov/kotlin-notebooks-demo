{
 "cells": [
  {
   "metadata": {},
   "cell_type": "markdown",
   "source": "# Welcome to the Kotlin Notebook!"
  },
  {
   "metadata": {
    "ExecuteTime": {
     "end_time": "2024-03-15T10:56:35.610293Z",
     "start_time": "2024-03-15T10:56:34.831420Z"
    }
   },
   "cell_type": "code",
   "source": [
    "import java.time.Instant\n",
    "\n",
    "println(\"Timestamp in the first cell: ${Instant.now()}\")\n",
    "val a = 10 + 10\n",
    "val b = 2 + 2"
   ],
   "outputs": [
    {
     "name": "stdout",
     "output_type": "stream",
     "text": [
      "Timestamp in the first cell: 2024-03-15T10:56:35.562638Z\n"
     ]
    }
   ],
   "execution_count": 1
  },
  {
   "metadata": {},
   "cell_type": "markdown",
   "source": [
    "Execute the next cell by placing a cursor to the cell and press Shift+Enter\n",
    "The previous cell results will be reused without recalculating "
   ]
  },
  {
   "metadata": {
    "ExecuteTime": {
     "end_time": "2024-03-15T10:56:35.873805Z",
     "start_time": "2024-03-15T10:56:35.621984Z"
    }
   },
   "cell_type": "code",
   "source": "println(\"We can refer to the variabes from the previous cell: ${a + b}\")",
   "outputs": [
    {
     "name": "stdout",
     "output_type": "stream",
     "text": [
      "We can refer to the variabes from the previous cell: 24\n"
     ]
    }
   ],
   "execution_count": 2
  },
  {
   "metadata": {
    "ExecuteTime": {
     "end_time": "2024-03-15T10:56:36.378307Z",
     "start_time": "2024-03-15T10:56:35.883276Z"
    }
   },
   "cell_type": "code",
   "source": [
    "val a1: Int = 1\n",
    "val a2: Int? = 2\n",
    "val a3: Int? = null"
   ],
   "outputs": [],
   "execution_count": 3
  },
  {
   "metadata": {
    "ExecuteTime": {
     "end_time": "2024-03-15T10:56:36.569714Z",
     "start_time": "2024-03-15T10:56:36.389220Z"
    }
   },
   "cell_type": "code",
   "source": "a1 + a2 // OK, a2 was converted to Int",
   "outputs": [
    {
     "data": {
      "text/plain": [
       "3"
      ]
     },
     "execution_count": 4,
     "metadata": {},
     "output_type": "execute_result"
    }
   ],
   "execution_count": 4
  },
  {
   "metadata": {
    "ExecuteTime": {
     "end_time": "2024-03-15T10:56:36.992706Z",
     "start_time": "2024-03-15T10:56:36.580559Z"
    }
   },
   "cell_type": "code",
   "source": "a1 + a3 // compile-time error",
   "outputs": [
    {
     "name": "stderr",
     "output_type": "stream",
     "text": [
      "Line_7.jupyter.kts (1:6 - 8) Type mismatch: inferred type is Int? but Int was expected"
     ]
    }
   ],
   "execution_count": 5
  },
  {
   "metadata": {},
   "cell_type": "markdown",
   "source": [
    "## Intro\n",
    "\n",
    "* List Item 1\n",
    "* List Item 2\n",
    "* [Link](https://nltimes.nl/2024/02/19/dutch-people-set-new-data-record-amsterdam-internet-hub-amid-bad-weather-last-night?utm_source=facebook&utm_medium=cpc%2C+organic_social&utm_campaign=results&utm_term=social_media)\n",
    "* [link 2](https://nltimes.nl/2023/10/27/october-likely-wettest-record-rainfall-continue-weekend)"
   ]
  },
  {
   "metadata": {
    "ExecuteTime": {
     "end_time": "2024-03-18T10:31:22.501326Z",
     "start_time": "2024-03-18T10:31:22.396172Z"
    }
   },
   "cell_type": "code",
   "source": "HTML(\"<img src='https://nltimes.nl/sites/nltimes.nl/files/styles/news_article_full_desktop_2x/public/2021-02/Depositphotos_74579931_l-2015.jpg?h=84071268' width=400px>\")",
   "outputs": [
    {
     "data": {
      "text/html": [
       "<img src='https://nltimes.nl/sites/nltimes.nl/files/styles/news_article_full_desktop_2x/public/2021-02/Depositphotos_74579931_l-2015.jpg?h=84071268' width=400px>"
      ]
     },
     "execution_count": 1,
     "metadata": {},
     "output_type": "execute_result"
    }
   ],
   "execution_count": 1
  },
  {
   "metadata": {},
   "cell_type": "code",
   "outputs": [],
   "execution_count": null,
   "source": ""
  }
 ],
 "metadata": {
  "kernelspec": {
   "display_name": "Kotlin",
   "language": "kotlin",
   "name": "kotlin"
  },
  "language_info": {
   "name": "kotlin",
   "version": "1.9.10",
   "mimetype": "text/x-kotlin",
   "file_extension": ".kt",
   "pygments_lexer": "kotlin",
   "codemirror_mode": "text/x-kotlin",
   "nbconvert_exporter": ""
  }
 },
 "nbformat": 4,
 "nbformat_minor": 0
}
