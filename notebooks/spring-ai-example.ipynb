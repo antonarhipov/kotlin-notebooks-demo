{
 "cells": [
  {
   "metadata": {
    "ExecuteTime": {
     "end_time": "2025-07-09T12:45:51.913Z",
     "start_time": "2025-07-09T12:45:39.630395Z"
    }
   },
   "cell_type": "code",
   "source": "%use spring-ai-openai",
   "outputs": [],
   "execution_count": 62
  },
  {
   "metadata": {
    "ExecuteTime": {
     "end_time": "2025-07-09T12:45:51.967657Z",
     "start_time": "2025-07-09T12:45:51.962228Z"
    }
   },
   "cell_type": "code",
   "source": "%useLatestDescriptors",
   "outputs": [],
   "execution_count": 63
  },
  {
   "metadata": {
    "ExecuteTime": {
     "end_time": "2025-07-09T12:45:52.094715Z",
     "start_time": "2025-07-09T12:45:51.972894Z"
    }
   },
   "cell_type": "code",
   "source": "val apiKey = System.getenv(\"OPENAI_API_KEY\") ?: \"YOUR_OPENAI_API_KEY\"",
   "outputs": [],
   "execution_count": 64
  },
  {
   "metadata": {
    "ExecuteTime": {
     "end_time": "2025-07-09T12:45:52.402750Z",
     "start_time": "2025-07-09T12:45:52.102690Z"
    }
   },
   "cell_type": "code",
   "source": [
    "import org.springframework.ai.openai.api.OpenAiApi\n",
    "\n",
    "val openAiApi = OpenAiApi.builder().apiKey(apiKey).build()"
   ],
   "outputs": [],
   "execution_count": 65
  },
  {
   "metadata": {
    "ExecuteTime": {
     "end_time": "2025-07-09T12:45:52.787593Z",
     "start_time": "2025-07-09T12:45:52.422021Z"
    }
   },
   "cell_type": "code",
   "source": [
    "import org.springframework.ai.openai.OpenAiChatOptions\n",
    "\n",
    "val openAiOptions = OpenAiChatOptions.builder()\n",
    "    .model(OpenAiApi.ChatModel.CHATGPT_4_O_LATEST)\n",
    "    .temperature(0.9)\n",
    "    .build()"
   ],
   "outputs": [],
   "execution_count": 66
  },
  {
   "metadata": {
    "ExecuteTime": {
     "end_time": "2025-07-09T12:45:53.110488Z",
     "start_time": "2025-07-09T12:45:52.807566Z"
    }
   },
   "cell_type": "code",
   "source": [
    "import org.springframework.ai.chat.model.ChatModel\n",
    "import org.springframework.ai.openai.OpenAiChatModel\n",
    "\n",
    "val openAiChat: ChatModel = OpenAiChatModel.builder()\n",
    "    .openAiApi(openAiApi)\n",
    "    .defaultOptions(openAiOptions)\n",
    "    .build()"
   ],
   "outputs": [],
   "execution_count": 67
  },
  {
   "metadata": {
    "ExecuteTime": {
     "end_time": "2025-07-09T12:45:56.570572Z",
     "start_time": "2025-07-09T12:45:53.320791Z"
    }
   },
   "cell_type": "code",
   "source": "openAiChat.call(\"Tell me a joke about Kotlin\")",
   "outputs": [
    {
     "data": {
      "text/plain": [
       "Why did the Java developer break up with Kotlin?\n",
       "\n",
       "Because every time Kotlin tried to help, they said, \"I can do it *with less code*!\" 😄"
      ]
     },
     "execution_count": 68,
     "metadata": {},
     "output_type": "execute_result"
    }
   ],
   "execution_count": 68
  },
  {
   "metadata": {
    "ExecuteTime": {
     "end_time": "2025-07-09T12:46:01.314288Z",
     "start_time": "2025-07-09T12:45:56.587616Z"
    }
   },
   "cell_type": "code",
   "source": [
    "val chat = ChatClient.create(openAiChat)\n",
    "\n",
    "data class Joke(val question: String, val answer: String)\n",
    "\n",
    "val entity = chat.prompt(\"tell me 10 jokes about joke about Scala\").call().entity<List<Joke>>()\n"
   ],
   "outputs": [],
   "execution_count": 69
  },
  {
   "metadata": {
    "ExecuteTime": {
     "end_time": "2025-07-09T12:46:11.617600Z",
     "start_time": "2025-07-09T12:46:01.335040Z"
    }
   },
   "cell_type": "code",
   "source": [
    "val chat = ChatClient.create(openAiChat)\n",
    "\n",
    "data class FairyTale(\n",
    "    val title: String,\n",
    "    val story: String,\n",
    "    val moralOfTheStory: String,\n",
    "    val characters: List<String>\n",
    ")\n",
    "\n",
    "val fairyTale =\n",
    "    chat.prompt(\"Create a fairy tale about computers. Include a title, main story, moral of the story, and list the main characters.\")\n",
    "        .call().entity<FairyTale>()\n"
   ],
   "outputs": [],
   "execution_count": 70
  }
 ],
 "metadata": {
  "kernelspec": {
   "display_name": "Kotlin",
   "language": "kotlin",
   "name": "kotlin"
  },
  "language_info": {
   "name": "kotlin",
   "version": "2.2.20-dev-4982",
   "mimetype": "text/x-kotlin",
   "file_extension": ".kt",
   "pygments_lexer": "kotlin",
   "codemirror_mode": "text/x-kotlin",
   "nbconvert_exporter": ""
  }
 },
 "nbformat": 4,
 "nbformat_minor": 0
}
